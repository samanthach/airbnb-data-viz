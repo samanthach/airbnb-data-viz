{
 "cells": [
  {
   "cell_type": "code",
   "execution_count": 2,
   "metadata": {},
   "outputs": [],
   "source": [
    "import pandas\n",
    "from collections import Counter\n",
    "import re\n",
    "import matplotlib.pyplot as plt\n",
    "from sklearn.cluster import KMeans\n",
    "import numpy\n",
    "from sklearn.linear_model import LinearRegression"
   ]
  },
  {
   "cell_type": "markdown",
   "metadata": {},
   "source": [
    "# <p style=\"font-size:200%\">INFO 2950 FINAL PROJECT</p>\n"
   ]
  },
  {
   "cell_type": "markdown",
   "metadata": {},
   "source": [
    "<p style=\"font-size:200%\">Airbnb Listings & Ice Cream Store Data Comparison Case Study</p>"
   ]
  },
  {
   "cell_type": "markdown",
   "metadata": {},
   "source": [
    "# DATASET"
   ]
  },
  {
   "cell_type": "code",
   "execution_count": 3,
   "metadata": {},
   "outputs": [
    {
     "data": {
      "text/html": [
       "<div>\n",
       "<style scoped>\n",
       "    .dataframe tbody tr th:only-of-type {\n",
       "        vertical-align: middle;\n",
       "    }\n",
       "\n",
       "    .dataframe tbody tr th {\n",
       "        vertical-align: top;\n",
       "    }\n",
       "\n",
       "    .dataframe thead th {\n",
       "        text-align: right;\n",
       "    }\n",
       "</style>\n",
       "<table border=\"1\" class=\"dataframe\">\n",
       "  <thead>\n",
       "    <tr style=\"text-align: right;\">\n",
       "      <th></th>\n",
       "      <th>listing</th>\n",
       "      <th>Van Leeuwen</th>\n",
       "      <th>Gelateria Gentile</th>\n",
       "      <th>OddFellows</th>\n",
       "      <th>Ample Hills</th>\n",
       "      <th>Emack &amp; Bolio's</th>\n",
       "      <th>average</th>\n",
       "      <th>min</th>\n",
       "      <th>max</th>\n",
       "      <th>price per night</th>\n",
       "      <th>room type</th>\n",
       "      <th>super host status</th>\n",
       "      <th>instant book feature</th>\n",
       "      <th>host-listings count</th>\n",
       "      <th>latitude</th>\n",
       "      <th>longitude</th>\n",
       "      <th>review scores rating</th>\n",
       "      <th>accomodates</th>\n",
       "      <th>cancellation</th>\n",
       "    </tr>\n",
       "  </thead>\n",
       "  <tbody>\n",
       "    <tr>\n",
       "      <th>0</th>\n",
       "      <td>15241517</td>\n",
       "      <td>6.9</td>\n",
       "      <td>9.2</td>\n",
       "      <td>9.3</td>\n",
       "      <td>6.5</td>\n",
       "      <td>7.5</td>\n",
       "      <td>7.88</td>\n",
       "      <td>6.5</td>\n",
       "      <td>9.3</td>\n",
       "      <td>70</td>\n",
       "      <td>Private room</td>\n",
       "      <td>y</td>\n",
       "      <td>n</td>\n",
       "      <td>1</td>\n",
       "      <td>40.600950</td>\n",
       "      <td>-73.996840</td>\n",
       "      <td>100.0</td>\n",
       "      <td>3</td>\n",
       "      <td>flexible</td>\n",
       "    </tr>\n",
       "    <tr>\n",
       "      <th>1</th>\n",
       "      <td>16314419</td>\n",
       "      <td>3.8</td>\n",
       "      <td>3.1</td>\n",
       "      <td>3.2</td>\n",
       "      <td>3.8</td>\n",
       "      <td>4.1</td>\n",
       "      <td>3.60</td>\n",
       "      <td>3.1</td>\n",
       "      <td>4.1</td>\n",
       "      <td>25</td>\n",
       "      <td>Shared room</td>\n",
       "      <td>n</td>\n",
       "      <td>n</td>\n",
       "      <td>2</td>\n",
       "      <td>40.689374</td>\n",
       "      <td>-73.922600</td>\n",
       "      <td>87.0</td>\n",
       "      <td>1</td>\n",
       "      <td>moderate</td>\n",
       "    </tr>\n",
       "    <tr>\n",
       "      <th>2</th>\n",
       "      <td>18331847</td>\n",
       "      <td>5.3</td>\n",
       "      <td>8.4</td>\n",
       "      <td>8.6</td>\n",
       "      <td>4.8</td>\n",
       "      <td>5.9</td>\n",
       "      <td>6.60</td>\n",
       "      <td>4.8</td>\n",
       "      <td>8.6</td>\n",
       "      <td>61</td>\n",
       "      <td>Entire home/apt</td>\n",
       "      <td>n</td>\n",
       "      <td>n</td>\n",
       "      <td>1</td>\n",
       "      <td>40.625436</td>\n",
       "      <td>-74.034946</td>\n",
       "      <td>NaN</td>\n",
       "      <td>2</td>\n",
       "      <td>moderate</td>\n",
       "    </tr>\n",
       "    <tr>\n",
       "      <th>3</th>\n",
       "      <td>5481762</td>\n",
       "      <td>2.1</td>\n",
       "      <td>2.3</td>\n",
       "      <td>2.5</td>\n",
       "      <td>2.1</td>\n",
       "      <td>2.3</td>\n",
       "      <td>2.26</td>\n",
       "      <td>2.1</td>\n",
       "      <td>2.5</td>\n",
       "      <td>159</td>\n",
       "      <td>Entire home/apt</td>\n",
       "      <td>y</td>\n",
       "      <td>y</td>\n",
       "      <td>2</td>\n",
       "      <td>40.686848</td>\n",
       "      <td>-73.955261</td>\n",
       "      <td>94.0</td>\n",
       "      <td>4</td>\n",
       "      <td>strict</td>\n",
       "    </tr>\n",
       "    <tr>\n",
       "      <th>4</th>\n",
       "      <td>16163874</td>\n",
       "      <td>3.3</td>\n",
       "      <td>3.3</td>\n",
       "      <td>3.4</td>\n",
       "      <td>3.3</td>\n",
       "      <td>3.6</td>\n",
       "      <td>3.38</td>\n",
       "      <td>3.3</td>\n",
       "      <td>3.6</td>\n",
       "      <td>150</td>\n",
       "      <td>Entire home/apt</td>\n",
       "      <td>y</td>\n",
       "      <td>y</td>\n",
       "      <td>1</td>\n",
       "      <td>40.682485</td>\n",
       "      <td>-73.932340</td>\n",
       "      <td>100.0</td>\n",
       "      <td>4</td>\n",
       "      <td>flexible</td>\n",
       "    </tr>\n",
       "  </tbody>\n",
       "</table>\n",
       "</div>"
      ],
      "text/plain": [
       "    listing  Van Leeuwen  Gelateria Gentile  OddFellows  Ample Hills  \\\n",
       "0  15241517          6.9                9.2         9.3          6.5   \n",
       "1  16314419          3.8                3.1         3.2          3.8   \n",
       "2  18331847          5.3                8.4         8.6          4.8   \n",
       "3   5481762          2.1                2.3         2.5          2.1   \n",
       "4  16163874          3.3                3.3         3.4          3.3   \n",
       "\n",
       "   Emack & Bolio's  average  min  max  price per night        room type  \\\n",
       "0              7.5     7.88  6.5  9.3               70     Private room   \n",
       "1              4.1     3.60  3.1  4.1               25      Shared room   \n",
       "2              5.9     6.60  4.8  8.6               61  Entire home/apt   \n",
       "3              2.3     2.26  2.1  2.5              159  Entire home/apt   \n",
       "4              3.6     3.38  3.3  3.6              150  Entire home/apt   \n",
       "\n",
       "  super host status instant book feature  host-listings count   latitude  \\\n",
       "0                 y                    n                    1  40.600950   \n",
       "1                 n                    n                    2  40.689374   \n",
       "2                 n                    n                    1  40.625436   \n",
       "3                 y                    y                    2  40.686848   \n",
       "4                 y                    y                    1  40.682485   \n",
       "\n",
       "   longitude  review scores rating  accomodates cancellation  \n",
       "0 -73.996840                 100.0            3     flexible  \n",
       "1 -73.922600                  87.0            1     moderate  \n",
       "2 -74.034946                   NaN            2     moderate  \n",
       "3 -73.955261                  94.0            4       strict  \n",
       "4 -73.932340                 100.0            4     flexible  "
      ]
     },
     "execution_count": 3,
     "metadata": {},
     "output_type": "execute_result"
    }
   ],
   "source": [
    "data = pandas.read_csv(\"icecream_airbnb.csv\")\n",
    "data.head()"
   ]
  },
  {
   "cell_type": "code",
   "execution_count": 4,
   "metadata": {},
   "outputs": [
    {
     "data": {
      "text/html": [
       "<div>\n",
       "<style scoped>\n",
       "    .dataframe tbody tr th:only-of-type {\n",
       "        vertical-align: middle;\n",
       "    }\n",
       "\n",
       "    .dataframe tbody tr th {\n",
       "        vertical-align: top;\n",
       "    }\n",
       "\n",
       "    .dataframe thead th {\n",
       "        text-align: right;\n",
       "    }\n",
       "</style>\n",
       "<table border=\"1\" class=\"dataframe\">\n",
       "  <thead>\n",
       "    <tr style=\"text-align: right;\">\n",
       "      <th></th>\n",
       "      <th>Ice cream Store</th>\n",
       "      <th>longitude</th>\n",
       "      <th>latitude</th>\n",
       "      <th>average</th>\n",
       "      <th>min</th>\n",
       "      <th>max</th>\n",
       "    </tr>\n",
       "  </thead>\n",
       "  <tbody>\n",
       "    <tr>\n",
       "      <th>0</th>\n",
       "      <td>Van Leeuwen</td>\n",
       "      <td>-73.990178</td>\n",
       "      <td>40.686983</td>\n",
       "      <td>3.075756</td>\n",
       "      <td>0.036</td>\n",
       "      <td>8.6</td>\n",
       "    </tr>\n",
       "    <tr>\n",
       "      <th>1</th>\n",
       "      <td>Gelateria Gentile</td>\n",
       "      <td>-73.963776</td>\n",
       "      <td>40.716428</td>\n",
       "      <td>3.527778</td>\n",
       "      <td>1.800</td>\n",
       "      <td>10.5</td>\n",
       "    </tr>\n",
       "    <tr>\n",
       "      <th>2</th>\n",
       "      <td>OddFellows</td>\n",
       "      <td>-73.963746</td>\n",
       "      <td>40.718174</td>\n",
       "      <td>3.657222</td>\n",
       "      <td>2.000</td>\n",
       "      <td>10.7</td>\n",
       "    </tr>\n",
       "    <tr>\n",
       "      <th>3</th>\n",
       "      <td>Ample Hills</td>\n",
       "      <td>-73.987221</td>\n",
       "      <td>40.679077</td>\n",
       "      <td>3.025556</td>\n",
       "      <td>0.500</td>\n",
       "      <td>8.0</td>\n",
       "    </tr>\n",
       "    <tr>\n",
       "      <th>4</th>\n",
       "      <td>Emack &amp; Bolio's</td>\n",
       "      <td>-73.994817</td>\n",
       "      <td>40.695417</td>\n",
       "      <td>3.403611</td>\n",
       "      <td>0.050</td>\n",
       "      <td>9.2</td>\n",
       "    </tr>\n",
       "  </tbody>\n",
       "</table>\n",
       "</div>"
      ],
      "text/plain": [
       "     Ice cream Store  longitude   latitude   average    min   max\n",
       "0        Van Leeuwen -73.990178  40.686983  3.075756  0.036   8.6\n",
       "1  Gelateria Gentile -73.963776  40.716428  3.527778  1.800  10.5\n",
       "2         OddFellows -73.963746  40.718174  3.657222  2.000  10.7\n",
       "3        Ample Hills -73.987221  40.679077  3.025556  0.500   8.0\n",
       "4    Emack & Bolio's -73.994817  40.695417  3.403611  0.050   9.2"
      ]
     },
     "execution_count": 4,
     "metadata": {},
     "output_type": "execute_result"
    }
   ],
   "source": [
    "data2 = pandas.read_csv(\"icecream_data.csv\")\n",
    "data2.head()"
   ]
  },
  {
   "cell_type": "markdown",
   "metadata": {},
   "source": [
    "# Brooklyn Scatter Plot - indicating airbnb listing & ice cream store locations"
   ]
  },
  {
   "cell_type": "markdown",
   "metadata": {},
   "source": [
    "Based off of problem set 9, we used the assumptions that UPS density would be a fairly accurate measure of population density; therefore, we collected locations of Brooklyn UPS facilities. We wanted to graph these UPS facilities with airbnb listing locations as well as the ice cream store locations to visually depict Brooklyn as a whole."
   ]
  },
  {
   "cell_type": "code",
   "execution_count": 5,
   "metadata": {},
   "outputs": [
    {
     "data": {
      "text/plain": [
       "0    GeoPosition[{40.635517, -73.994919}]\n",
       "1      GeoPosition[{40.6269, -73.976468}]\n",
       "2    GeoPosition[{40.612409, -73.925681}]\n",
       "3    GeoPosition[{40.576311, -73.968805}]\n",
       "4     GeoPosition[{40.618862, -73.92868}]\n",
       "Name: GeoLocation, dtype: object"
      ]
     },
     "execution_count": 5,
     "metadata": {},
     "output_type": "execute_result"
    }
   ],
   "source": [
    "data_ups_gps = pandas.read_csv(\"brooklyn_ups_facilities.csv\").GeoLocation\n",
    "data_ups_gps.head()\n"
   ]
  },
  {
   "cell_type": "code",
   "execution_count": 6,
   "metadata": {},
   "outputs": [
    {
     "name": "stdout",
     "output_type": "stream",
     "text": [
      "[(40.635517, -73.994919), (40.6269, -73.976468), (40.612409, -73.925681), (40.576311, -73.968805), (40.618862, -73.92868), (40.698931, -73.916864), (40.650878, -73.869243), (40.632703, -73.88865), (40.702832, -73.989645), (40.618445, -74.033144)]\n"
     ]
    }
   ],
   "source": [
    "coord_pairs = []\n",
    "for entry in data_ups_gps:\n",
    "    x = re.findall(\"\\{(.*)\\}\", entry)[0].split(',')\n",
    "    tuple = ((float(x[0]), float(x[1])))\n",
    "    coord_pairs.append(tuple)\n",
    "print(coord_pairs[:10])"
   ]
  },
  {
   "cell_type": "code",
   "execution_count": 7,
   "metadata": {},
   "outputs": [
    {
     "data": {
      "image/png": "[encoded data removed]",
      "text/plain": [
       "<Figure size 432x288 with 1 Axes>"
      ]
     },
     "metadata": {
      "needs_background": "light"
     },
     "output_type": "display_data"
    }
   ],
   "source": [
    "#brooklyn ups locations - blue\n",
    "lat = [ups_x[1] for ups_x in coord_pairs]\n",
    "long = [ups_x[0] for ups_x in coord_pairs]\n",
    "plt.scatter(lat, long)\n",
    "\n",
    "#brooklyn airbnb listings - orange\n",
    "plt.scatter(data[\"longitude\"], data[\"latitude\"])\n",
    "\n",
    "#brooklyn top 5 icecream stores - green\n",
    "plt.scatter(data2[\"longitude\"], data2[\"latitude\"])\n",
    "\n",
    "\n",
    "plt.show()\n"
   ]
  },
  {
   "cell_type": "markdown",
   "metadata": {},
   "source": [
    "This graph roughly displays the map of Brooklyn. In the graph, the blue dots are UPS locations, the orange dots are airbnb listing locations and the green dots are the top five ice cream store locations."
   ]
  },
  {
   "cell_type": "markdown",
   "metadata": {},
   "source": [
    "# Airbnb Listing Price Per Night & Average Distance to Top Ice Cream Store"
   ]
  },
  {
   "cell_type": "code",
   "execution_count": 17,
   "metadata": {},
   "outputs": [
    {
     "data": {
      "image/png": "[encoded data removed]",
      "text/plain": [
       "<Figure size 432x288 with 1 Axes>"
      ]
     },
     "metadata": {
      "needs_background": "light"
     },
     "output_type": "display_data"
    },
    {
     "name": "stdout",
     "output_type": "stream",
     "text": [
      "Y-intercept: 3.934779193124311\n",
      "Coefficient: -0.0062982560249985955\n"
     ]
    }
   ],
   "source": [
    "x = data[\"price per night\"]\n",
    "\n",
    "#average stands for average distance to ice cream store\n",
    "y = data[\"average\"]\n",
    "plt.scatter(x,y)\n",
    "\n",
    "def line_of_best_fit(x,y):\n",
    "    m = (((numpy.mean(x)*numpy.mean(y))-numpy.mean(x*y))/((numpy.mean(x)*numpy.mean(x))- numpy.mean(x*x)))\n",
    "    b = numpy.mean(y) - m*numpy.mean(x)\n",
    "    return m,b\n",
    "\n",
    "m, b = line_of_best_fit(x,y)\n",
    "\n",
    "regression_line = [(m*x1)+ b for x1 in x]\n",
    "\n",
    "lin_regress = LinearRegression().fit(data[[\"price per night\"]],data[[\"average\"]])\n",
    "\n",
    "plt.plot(x, regression_line)\n",
    "plt.xlabel(\"Airbnb Listing Price Per Night\")\n",
    "plt.ylabel(\"Average Distance to Top Icecream Store\")\n",
    "plt.show()\n",
    "\n",
    "print('Y-intercept: ' + str(lin_regress.intercept_[0]))\n",
    "print('Coefficient: ' + str(lin_regress.coef_[0,0]))\n"
   ]
  },
  {
   "cell_type": "markdown",
   "metadata": {},
   "source": [
    "# Modifying original dataset values from qualitative to quantitative values:"
   ]
  },
  {
   "cell_type": "code",
   "execution_count": 18,
   "metadata": {},
   "outputs": [
    {
     "data": {
      "text/html": [
       "<div>\n",
       "<style scoped>\n",
       "    .dataframe tbody tr th:only-of-type {\n",
       "        vertical-align: middle;\n",
       "    }\n",
       "\n",
       "    .dataframe tbody tr th {\n",
       "        vertical-align: top;\n",
       "    }\n",
       "\n",
       "    .dataframe thead th {\n",
       "        text-align: right;\n",
       "    }\n",
       "</style>\n",
       "<table border=\"1\" class=\"dataframe\">\n",
       "  <thead>\n",
       "    <tr style=\"text-align: right;\">\n",
       "      <th></th>\n",
       "      <th>listing</th>\n",
       "      <th>Van Leeuwen</th>\n",
       "      <th>Gelateria Gentile</th>\n",
       "      <th>OddFellows</th>\n",
       "      <th>Ample Hills</th>\n",
       "      <th>Emack &amp; Bolio's</th>\n",
       "      <th>average</th>\n",
       "      <th>min</th>\n",
       "      <th>max</th>\n",
       "      <th>price per night</th>\n",
       "      <th>room type</th>\n",
       "      <th>super host status</th>\n",
       "      <th>instant book feature</th>\n",
       "      <th>host-listings count</th>\n",
       "      <th>latitude</th>\n",
       "      <th>longitude</th>\n",
       "      <th>review scores rating</th>\n",
       "      <th>accomodates</th>\n",
       "      <th>cancellation</th>\n",
       "    </tr>\n",
       "  </thead>\n",
       "  <tbody>\n",
       "    <tr>\n",
       "      <th>0</th>\n",
       "      <td>15241517</td>\n",
       "      <td>6.9</td>\n",
       "      <td>9.2</td>\n",
       "      <td>9.3</td>\n",
       "      <td>6.5</td>\n",
       "      <td>7.5</td>\n",
       "      <td>7.88</td>\n",
       "      <td>6.5</td>\n",
       "      <td>9.3</td>\n",
       "      <td>70</td>\n",
       "      <td>Private room</td>\n",
       "      <td>1</td>\n",
       "      <td>0</td>\n",
       "      <td>1</td>\n",
       "      <td>40.600950</td>\n",
       "      <td>-73.996840</td>\n",
       "      <td>100.0</td>\n",
       "      <td>3</td>\n",
       "      <td>1</td>\n",
       "    </tr>\n",
       "    <tr>\n",
       "      <th>1</th>\n",
       "      <td>16314419</td>\n",
       "      <td>3.8</td>\n",
       "      <td>3.1</td>\n",
       "      <td>3.2</td>\n",
       "      <td>3.8</td>\n",
       "      <td>4.1</td>\n",
       "      <td>3.60</td>\n",
       "      <td>3.1</td>\n",
       "      <td>4.1</td>\n",
       "      <td>25</td>\n",
       "      <td>Shared room</td>\n",
       "      <td>0</td>\n",
       "      <td>0</td>\n",
       "      <td>2</td>\n",
       "      <td>40.689374</td>\n",
       "      <td>-73.922600</td>\n",
       "      <td>87.0</td>\n",
       "      <td>1</td>\n",
       "      <td>2</td>\n",
       "    </tr>\n",
       "    <tr>\n",
       "      <th>2</th>\n",
       "      <td>18331847</td>\n",
       "      <td>5.3</td>\n",
       "      <td>8.4</td>\n",
       "      <td>8.6</td>\n",
       "      <td>4.8</td>\n",
       "      <td>5.9</td>\n",
       "      <td>6.60</td>\n",
       "      <td>4.8</td>\n",
       "      <td>8.6</td>\n",
       "      <td>61</td>\n",
       "      <td>Entire home/apt</td>\n",
       "      <td>0</td>\n",
       "      <td>0</td>\n",
       "      <td>1</td>\n",
       "      <td>40.625436</td>\n",
       "      <td>-74.034946</td>\n",
       "      <td>NaN</td>\n",
       "      <td>2</td>\n",
       "      <td>2</td>\n",
       "    </tr>\n",
       "    <tr>\n",
       "      <th>3</th>\n",
       "      <td>5481762</td>\n",
       "      <td>2.1</td>\n",
       "      <td>2.3</td>\n",
       "      <td>2.5</td>\n",
       "      <td>2.1</td>\n",
       "      <td>2.3</td>\n",
       "      <td>2.26</td>\n",
       "      <td>2.1</td>\n",
       "      <td>2.5</td>\n",
       "      <td>159</td>\n",
       "      <td>Entire home/apt</td>\n",
       "      <td>1</td>\n",
       "      <td>1</td>\n",
       "      <td>2</td>\n",
       "      <td>40.686848</td>\n",
       "      <td>-73.955261</td>\n",
       "      <td>94.0</td>\n",
       "      <td>4</td>\n",
       "      <td>3</td>\n",
       "    </tr>\n",
       "    <tr>\n",
       "      <th>4</th>\n",
       "      <td>16163874</td>\n",
       "      <td>3.3</td>\n",
       "      <td>3.3</td>\n",
       "      <td>3.4</td>\n",
       "      <td>3.3</td>\n",
       "      <td>3.6</td>\n",
       "      <td>3.38</td>\n",
       "      <td>3.3</td>\n",
       "      <td>3.6</td>\n",
       "      <td>150</td>\n",
       "      <td>Entire home/apt</td>\n",
       "      <td>1</td>\n",
       "      <td>1</td>\n",
       "      <td>1</td>\n",
       "      <td>40.682485</td>\n",
       "      <td>-73.932340</td>\n",
       "      <td>100.0</td>\n",
       "      <td>4</td>\n",
       "      <td>1</td>\n",
       "    </tr>\n",
       "  </tbody>\n",
       "</table>\n",
       "</div>"
      ],
      "text/plain": [
       "    listing  Van Leeuwen  Gelateria Gentile  OddFellows  Ample Hills  \\\n",
       "0  15241517          6.9                9.2         9.3          6.5   \n",
       "1  16314419          3.8                3.1         3.2          3.8   \n",
       "2  18331847          5.3                8.4         8.6          4.8   \n",
       "3   5481762          2.1                2.3         2.5          2.1   \n",
       "4  16163874          3.3                3.3         3.4          3.3   \n",
       "\n",
       "   Emack & Bolio's  average  min  max  price per night        room type  \\\n",
       "0              7.5     7.88  6.5  9.3               70     Private room   \n",
       "1              4.1     3.60  3.1  4.1               25      Shared room   \n",
       "2              5.9     6.60  4.8  8.6               61  Entire home/apt   \n",
       "3              2.3     2.26  2.1  2.5              159  Entire home/apt   \n",
       "4              3.6     3.38  3.3  3.6              150  Entire home/apt   \n",
       "\n",
       "   super host status  instant book feature  host-listings count   latitude  \\\n",
       "0                  1                     0                    1  40.600950   \n",
       "1                  0                     0                    2  40.689374   \n",
       "2                  0                     0                    1  40.625436   \n",
       "3                  1                     1                    2  40.686848   \n",
       "4                  1                     1                    1  40.682485   \n",
       "\n",
       "   longitude  review scores rating  accomodates  cancellation  \n",
       "0 -73.996840                 100.0            3             1  \n",
       "1 -73.922600                  87.0            1             2  \n",
       "2 -74.034946                   NaN            2             2  \n",
       "3 -73.955261                  94.0            4             3  \n",
       "4 -73.932340                 100.0            4             1  "
      ]
     },
     "execution_count": 18,
     "metadata": {},
     "output_type": "execute_result"
    }
   ],
   "source": [
    "## Editting cancellation column into numeric scale so that flexible = 1, moderate = 2 and strict = 3\n",
    "cancel_map = {\"flexible\": 1, \"moderate\": 2, \"strict\": 3}\n",
    "data.cancellation = data.cancellation.map(cancel_map)\n",
    "\n",
    "##Editting super host status column into binary values (yes is 1, no is 0)\n",
    "super_map = {\"y\": 1, \"n\": 0}\n",
    "data[\"super host status\"] = data[\"super host status\"].map(super_map)\n",
    "\n",
    "##Editting instant book feature column into binary values (yes is 1, no is 0)\n",
    "instant_map = {\"y\": 1, \"n\": 0}\n",
    "data[\"instant book feature\"] = data[\"instant book feature\"].map(instant_map)\n",
    "data.head()"
   ]
  },
  {
   "cell_type": "markdown",
   "metadata": {},
   "source": [
    "# Compare Super Host Status and Average Distance to Ice Cream Store"
   ]
  },
  {
   "cell_type": "code",
   "execution_count": 41,
   "metadata": {},
   "outputs": [
    {
     "name": "stdout",
     "output_type": "stream",
     "text": [
      "Super Host Listings Average Distance: 3.8288888888888897\n",
      "Non-super Host Listings Average Distance: 3.251354248366013\n",
      "Total Average Distance of All Listings: 3.337984444444446\n"
     ]
    }
   ],
   "source": [
    "##find average distance to icecream store for only super host status airbnb listings\n",
    "super_host_listings = []\n",
    "for index, row in data.iterrows():\n",
    "    if row[\"super host status\"] == 1:\n",
    "        super_host_listings.append(row[\"average\"])\n",
    "\n",
    "\n",
    "##find average distance to icecream store for NON - super host status airbnb listings\n",
    "non_super_host_listings = []\n",
    "for index, row in data.iterrows():\n",
    "    if row[\"super host status\"] == 0:\n",
    "        non_super_host_listings.append(row[\"average\"])\n",
    "  \n",
    "\n",
    "\n",
    "print(\"Super Host Listings Average Distance: \"+ str (numpy.mean(super_host_listings)))\n",
    "print(\"Non-super Host Listings Average Distance: \"+ str (numpy.mean(non_super_host_listings)))\n",
    "print(\"Total Average Distance of All Listings: \" + str(numpy.mean(data[\"average\"])))\n"
   ]
  },
  {
   "cell_type": "markdown",
   "metadata": {},
   "source": [
    "# Compare Instant Booking Feature and Average Distance to Ice Cream Store"
   ]
  },
  {
   "cell_type": "code",
   "execution_count": 42,
   "metadata": {},
   "outputs": [
    {
     "name": "stdout",
     "output_type": "stream",
     "text": [
      "Instant Booking Listings Average Distance: 3.2439999999999998\n",
      "Non Instant Booking Listings Average Distance: 3.356781333333333\n",
      "Total Average Distance of All Listings: 3.337984444444446\n"
     ]
    }
   ],
   "source": [
    "##find average distance to icecream store for instant booking airbnb listings\n",
    "instant_booking_listings = []\n",
    "for index, row in data.iterrows():\n",
    "    if row[\"instant book feature\"] == 1:\n",
    "        instant_booking_listings.append(row[\"average\"])\n",
    "\n",
    "\n",
    "##find average distance to icecream store for NON - instant booking airbnb listings\n",
    "non_instant_booking_listings = []\n",
    "for index, row in data.iterrows():\n",
    "    if row[\"instant book feature\"] == 0:\n",
    "        non_instant_booking_listings.append(row[\"average\"])\n",
    "  \n",
    "\n",
    "\n",
    "print(\"Instant Booking Listings Average Distance: \"+ str (numpy.mean(instant_booking_listings)))\n",
    "print(\"Non Instant Booking Listings Average Distance: \"+ str (numpy.mean(non_instant_booking_listings)))\n",
    "print(\"Total Average Distance of All Listings: \" + str(numpy.mean(data[\"average\"])))"
   ]
  },
  {
   "cell_type": "markdown",
   "metadata": {},
   "source": [
    "# Compare Cancellation Policy and Average Distance to Ice Cream Store"
   ]
  },
  {
   "cell_type": "code",
   "execution_count": 44,
   "metadata": {},
   "outputs": [
    {
     "name": "stdout",
     "output_type": "stream",
     "text": [
      "Flexible Cancellations Average Distance: 3.263050847457628\n",
      "Moderate Cancellations Average Distance: 3.364782608695652\n",
      "Strict Cancellations Average Distance: 3.3804960000000004\n",
      "Total Average Distance of All Listings: 3.337984444444446\n"
     ]
    }
   ],
   "source": [
    "##find average distance to icecream store for flexible cancellations airbnb listings\n",
    "flexible_cancellations = []\n",
    "for index, row in data.iterrows():\n",
    "    if row[\"cancellation\"] == 1:\n",
    "        flexible_cancellations.append(row[\"average\"])\n",
    "\n",
    "\n",
    "##find average distance to icecream store for moderate cancellations airbnb listings\n",
    "moderate_cancellations = []\n",
    "for index, row in data.iterrows():\n",
    "    if row[\"cancellation\"] == 2:\n",
    "        moderate_cancellations.append(row[\"average\"])\n",
    "\n",
    "##find average distance to icecream store for strict cancellations airbnb listings\n",
    "strict_cancellations = []\n",
    "for index, row in data.iterrows():\n",
    "    if row[\"cancellation\"] == 3:\n",
    "        strict_cancellations.append(row[\"average\"])\n",
    "  \n",
    "\n",
    "\n",
    "print(\"Flexible Cancellations Average Distance: \"+ str (numpy.mean(flexible_cancellations)))\n",
    "print(\"Moderate Cancellations Average Distance: \"+ str (numpy.mean(moderate_cancellations)))\n",
    "print(\"Strict Cancellations Average Distance: \"+ str (numpy.mean(strict_cancellations)))\n",
    "print(\"Total Average Distance of All Listings: \" + str(numpy.mean(data[\"average\"])))"
   ]
  }
 ],
 "metadata": {
  "kernelspec": {
   "display_name": "Python 3",
   "language": "python",
   "name": "python3"
  },
  "language_info": {
   "codemirror_mode": {
    "name": "ipython",
    "version": 3
   },
   "file_extension": ".py",
   "mimetype": "text/x-python",
   "name": "python",
   "nbconvert_exporter": "python",
   "pygments_lexer": "ipython3",
   "version": "3.6.8"
  }
 },
 "nbformat": 4,
 "nbformat_minor": 2
}
